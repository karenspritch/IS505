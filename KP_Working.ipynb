{
 "cells": [
  {
   "cell_type": "markdown",
   "metadata": {},
   "source": [
    "# Car Buying for Data Scientists\n",
    "\n",
    " \n",
    "\n",
    "## Questions for Carolyn\n",
    "\n",
    "* New or used? (leased)\n",
    "* Hybrid or not?  \n",
    "* 2 door, 4 door, hatchback?\n",
    "* front, rear, all/4 wheel drive? - does that effect fuel cost\n",
    "* fuel type vs emissions/costs\n",
    "\n",
    "price  \n",
    "safety rating\n",
    "car tax and sales tax  \n"
   ]
  },
  {
   "cell_type": "code",
   "execution_count": 1,
   "metadata": {
    "collapsed": true
   },
   "outputs": [],
   "source": [
    "#import modules\n",
    "import zipfile as zf\n",
    "from urllib.request import urlretrieve\n",
    "import pandas as pd\n",
    "import numpy as np\n",
    "import matplotlib.pyplot as plt\n",
    "import os"
   ]
  },
  {
   "cell_type": "code",
   "execution_count": 2,
   "metadata": {
    "scrolled": true
   },
   "outputs": [],
   "source": [
    "#get data\n",
    "vurl = 'https://www.fueleconomy.gov/feg/epadata/vehicles.csv.zip'\n",
    "\n",
    "def getdata(filename='vehicles.csv.zip', url=vurl, force_download=False):\n",
    "    if force_download or not os.path.exists(filename):\n",
    "        urlretrieve(url, filename)\n",
    "    with zf.ZipFile('vehicles.csv.zip','w') as carzip:\n",
    "        carzip.write('vehicles.csv')\n",
    "    carinfo = pd.read_csv('vehicles.csv',index_col='id',low_memory=False,parse_dates=[63,77,78])\n",
    "    return carinfo"
   ]
  },
  {
   "cell_type": "code",
   "execution_count": 3,
   "metadata": {},
   "outputs": [],
   "source": [
    "carinfo = getdata()"
   ]
  },
  {
   "cell_type": "code",
   "execution_count": 4,
   "metadata": {},
   "outputs": [
    {
     "ename": "SyntaxError",
     "evalue": "invalid syntax (<ipython-input-4-1b8242dc7c36>, line 2)",
     "output_type": "error",
     "traceback": [
      "\u001b[0;36m  File \u001b[0;32m\"<ipython-input-4-1b8242dc7c36>\"\u001b[0;36m, line \u001b[0;32m2\u001b[0m\n\u001b[0;31m    vehicles = carinfo.loc(:,[])\u001b[0m\n\u001b[0m                           ^\u001b[0m\n\u001b[0;31mSyntaxError\u001b[0m\u001b[0;31m:\u001b[0m invalid syntax\n"
     ]
    }
   ],
   "source": [
    "#get useful columns\n",
    "vehicles = carinfo.loc(:,[])"
   ]
  },
  {
   "cell_type": "markdown",
   "metadata": {},
   "source": [
    "drive\n",
    "year\n",
    "hlv, lv2, lv4\n",
    "hpv, pv2, pv4\n",
    "cylinders\n",
    "VClass"
   ]
  }
 ],
 "metadata": {
  "kernelspec": {
   "display_name": "Python 3",
   "language": "python",
   "name": "python3"
  },
  "language_info": {
   "codemirror_mode": {
    "name": "ipython",
    "version": 3
   },
   "file_extension": ".py",
   "mimetype": "text/x-python",
   "name": "python",
   "nbconvert_exporter": "python",
   "pygments_lexer": "ipython3",
   "version": "3.6.1"
  }
 },
 "nbformat": 4,
 "nbformat_minor": 2
}
